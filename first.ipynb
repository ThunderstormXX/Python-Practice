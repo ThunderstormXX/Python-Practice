{
 "cells": [
  {
   "cell_type": "markdown",
   "metadata": {},
   "source": [
    "## Домашнее задание №1 (курс \"Практикум по программированию на языке Python\")"
   ]
  },
  {
   "cell_type": "markdown",
   "metadata": {},
   "source": []
  },
  {
   "cell_type": "markdown",
   "metadata": {},
   "source": [
    "#### Постановка задачи:\n",
    "\n",
    "- В данной работе нужно решить набор задач, проверяющих владение базовыми инструментами языка.\n",
    "- Каждая задача представляет собой написание одной или более функций, а также набора тестов, проверяющих работу этой функции в общих и крайних случаях.\n",
    "- Отсутствие тестов автоматически уменьшает количество баллов за задание как минимум в два раза, некачественные тесты также будут штрафоваться.\n",
    "- Если в задании указано использовать несколько разных вариантов решения, подразумевается использование различных инструментов (циклы, списковые включения, генераторы, встроенные функции, функции модулей стандартной библотеки и т.п.), замена, например, цикла for на цикл while не является иным способом решения.\n",
    "- Даже если это не указано явно в требованиях, код должен быть по возможности неизбыточным, работать с разумной сложностью и объёмом потребялемой памяти, проверяющие могут снизить балл за задание, выполненное без учёта этого требования.\n",
    "- Результирующий код должен быть читаемым, с единой системой отступов и адеквантными названиями переменных, проверяющие могут снизить балл за задание, выполненное без учёта этого требования."
   ]
  },
  {
   "cell_type": "markdown",
   "metadata": {},
   "source": [
    "## Комментарий: Там где предложено два метода, я буду либо в функции вводить переменную отвечающую за запускаемый метод , либо разобью на два метода явно"
   ]
  },
  {
   "cell_type": "markdown",
   "metadata": {},
   "source": [
    "__Задание 1 (0.5 балла):__ Дано натуральное число. Требуется определить, является ли год с данным номером високосным. Если год является високосным, то выведите YES, иначе выведите NO. Напомним, что в соответствии с григорианским календарем, год является високосным, если его номер кратен 4, но не кратен 100, а также если он кратен 400."
   ]
  },
  {
   "cell_type": "code",
   "execution_count": 1,
   "metadata": {},
   "outputs": [
    {
     "name": "stdout",
     "output_type": "stream",
     "text": [
      "Yes\n",
      "Yes\n",
      "No\n",
      "No\n"
     ]
    }
   ],
   "source": [
    "def task_01_func(year):\n",
    "    if year % 4 == 0 and year % 100 != 0 or year == 400:\n",
    "        print(\"Yes\")\n",
    "    else :\n",
    "        print(\"No\")    \n",
    "\n",
    "task_01_func(4)\n",
    "task_01_func(400)\n",
    "task_01_func(200)\n",
    "task_01_func(2023)"
   ]
  },
  {
   "cell_type": "markdown",
   "metadata": {},
   "source": [
    "__Задание 2 (0.5 балла):__ Дано натуральное число. Найдите число знаков в его десятичной записи. Предложите как минимум два различных решения."
   ]
  },
  {
   "cell_type": "code",
   "execution_count": 4,
   "metadata": {},
   "outputs": [
    {
     "name": "stdout",
     "output_type": "stream",
     "text": [
      "5\n",
      "55\n"
     ]
    }
   ],
   "source": [
    "method = 1\n",
    "def task_02_func(number):\n",
    "    if method == 0 :\n",
    "        cnt = int(0)\n",
    "        while number > 0 :\n",
    "            number = int(number / 10)\n",
    "            cnt += 1 \n",
    "        return cnt\n",
    "    else :\n",
    "        if number > 0 :\n",
    "            return 1 + task_02_func( int(number / 10))\n",
    "        else : \n",
    "            return 0\n",
    "\n",
    "print(task_02_func(12131))\n",
    "print(task_02_func(1232131231233213123324324234234234234234234234234141234))"
   ]
  },
  {
   "cell_type": "markdown",
   "metadata": {},
   "source": [
    "__Задание 3 (0.5 балла):__ По данному натуральном n вычислите сумму 1!+2!+3!+...+n!. В решении этой задачи с помощью циклов можно использовать только один цикл. Предложите как минимум два различных решения."
   ]
  },
  {
   "cell_type": "code",
   "execution_count": 7,
   "metadata": {
    "collapsed": true
   },
   "outputs": [
    {
     "name": "stdout",
     "output_type": "stream",
     "text": [
      "0\n",
      "1\n",
      "3\n",
      "9\n",
      "33\n",
      "153\n"
     ]
    }
   ],
   "source": [
    "method = 0\n",
    "def task_03_func(n):\n",
    "    if method == 0 :\n",
    "        result = int(n)\n",
    "        for i in range(n,1,-1):\n",
    "            result = result*(i-1) + (i-1)\n",
    "        return result \n",
    "    else :\n",
    "        if n > 1 :\n",
    "            return n*(task_03_func(n-1) - task_03_func(n-2)) + task_03_func(n-1) \n",
    "        elif n == 0 :\n",
    "            return 0\n",
    "        else :\n",
    "            return 1\n",
    "for i in range(6):\n",
    "    print(task_03_func(i))"
   ]
  },
  {
   "cell_type": "markdown",
   "metadata": {},
   "source": [
    "__Задание 4 (0.5 балла):__ Определить, является ли введённая строка палиндромом (то есть одинаково читается с обеих сторон). Предложите как минимум три различных решения."
   ]
  },
  {
   "cell_type": "code",
   "execution_count": 9,
   "metadata": {
    "collapsed": true
   },
   "outputs": [
    {
     "name": "stdout",
     "output_type": "stream",
     "text": [
      "True\n",
      "False\n",
      "True\n",
      "True\n"
     ]
    }
   ],
   "source": [
    "method = 2\n",
    "def task_04_func(s):\n",
    "    if method == 0 :\n",
    "        n = len(s)\n",
    "        for i in range(n):\n",
    "            if s[i] != s[n-i-1]:\n",
    "                return False\n",
    "        return True\n",
    "    elif method == 1 :\n",
    "        n = len(s)\n",
    "        if n < 2:\n",
    "            return True\n",
    "        else :\n",
    "            if s[0] == s[n-1] :\n",
    "                return task_04_func(s[1:n-1])\n",
    "            else :\n",
    "                return False\n",
    "    elif method == 2 :\n",
    "        return s == s[::-1] \n",
    "        \n",
    "print(task_04_func(\"abacaba\"))\n",
    "print(task_04_func(\"abacab\"))\n",
    "print(task_04_func(\"aba\"))\n",
    "print(task_04_func(\"\"))"
   ]
  },
  {
   "cell_type": "markdown",
   "metadata": {},
   "source": [
    "__Задание 5 (1 балл):__ Дан текст в виде строки. Напишите функцию, которая возвращает словарь, где ключами являются уникальные слова из этого текста, а значениями - число раз, которое данное слово встретилось в тексте. Считать, что слова разделяются пробелами. Предложите как минимум два различных решения."
   ]
  },
  {
   "cell_type": "code",
   "execution_count": 13,
   "metadata": {
    "collapsed": true
   },
   "outputs": [
    {
     "name": "stdout",
     "output_type": "stream",
     "text": [
      "{'ab': 1, 'a': 1, 'bbas': 1, 'asd': 2, 'asf': 1, 'dd': 3, 'aas': 1, 's': 1}\n",
      "{'cat': 4, 'dog': 2}\n",
      "{}\n",
      "{'a': 6}\n"
     ]
    }
   ],
   "source": [
    "method = 1\n",
    "def task_05_func(text):\n",
    "    if method == 0 : \n",
    "        dictionary = dict()\n",
    "        for i in text.split() :\n",
    "            if dictionary.get(i) is None :\n",
    "                dictionary[i] = 1 \n",
    "            else :\n",
    "                dictionary[i] +=1\n",
    "        return dictionary\n",
    "    elif method == 1 :\n",
    "        set = {}\n",
    "        for word in text.split():\n",
    "            set[word] = set.setdefault(word, 0) + 1\n",
    "        return set\n",
    "print(task_05_func(\"ab a bbas asd asd asf dd dd dd aas s\"))\n",
    "print(task_05_func(\"cat dog dog cat cat cat\"))\n",
    "print(task_05_func(\"    \"))\n",
    "print(task_05_func(\"  a   a a a a a   \"))\n"
   ]
  },
  {
   "cell_type": "markdown",
   "metadata": {},
   "source": [
    "__Задание 6 (1 балл):__ Напишите функцию, которая принимает на вход строку и символ и возвращает:\n",
    "\n",
    "- если символ встретился в строке один раз - кортеж (индекс вхождения, None);\n",
    "- если два и более раз - кортеж (индекс первого вхождения, индекс последнего вхождения);\n",
    "- если ни разу - кортеж (None, None).\n",
    "\n",
    "Запрещается делать более одного прохода по каждому элементу строки."
   ]
  },
  {
   "cell_type": "code",
   "execution_count": 16,
   "metadata": {
    "collapsed": true
   },
   "outputs": [
    {
     "name": "stdout",
     "output_type": "stream",
     "text": [
      "(2, 21)\n",
      "(1, None)\n",
      "(None, None)\n",
      "(0, 15)\n",
      "(16, None)\n"
     ]
    }
   ],
   "source": [
    "def task_06_func(input_str, input_char):\n",
    "    first = None\n",
    "    last = None\n",
    "    i = int(0) ; key = True\n",
    "    while i < len(input_str) and key:\n",
    "        if input_str[i] == input_char :\n",
    "            first = i\n",
    "            key = False\n",
    "        i += 1 \n",
    "    while i < len(input_str) : #Продолжаем проход после первого встретившегося вхождения до последнего\n",
    "        if input_str[i] == input_char :\n",
    "            last = i\n",
    "        i += 1 \n",
    "    return (first,last)\n",
    "\n",
    "\n",
    "print(task_06_func(\"asd asd as asd asdas da\",\"d\"))\n",
    "print(task_06_func(\"da\",\"a\"))\n",
    "print(task_06_func(\" adad asd asd asd\",\"b\"))\n",
    "print(task_06_func(\"s dsf adsf adsfs\",\"s\"))\n",
    "print(task_06_func(\"s dsf adsf adsfse\",\"e\"))"
   ]
  },
  {
   "cell_type": "markdown",
   "metadata": {},
   "source": [
    "__Задание 7 (1 балл):__ Дан список целых чисел. Напишите функцию, которая возвращает копию этого списка, из которой удалены отрицательные числа, а все прочие числа возведены в квадрат. Также возвращаемая последовательность должна быть отсортирована по убыванию. Предложите как минимум три различных решения."
   ]
  },
  {
   "cell_type": "code",
   "execution_count": 41,
   "metadata": {
    "collapsed": true
   },
   "outputs": [
    {
     "name": "stdout",
     "output_type": "stream",
     "text": [
      "[15129, 15129, 15129, 15129, 529, 144, 144, 9, 1, 1]\n",
      "[0]\n",
      "[]\n",
      "[36, 16, 4, 0]\n"
     ]
    }
   ],
   "source": [
    "method = 2\n",
    "def task_07_func(lst):\n",
    "    if method == 0 :\n",
    "        lst.sort(key= lambda x : -x)\n",
    "        return [ i**2 for i in lst if i >= 0 ]\n",
    "    elif method == 1 :\n",
    "        res = [ i**2 for i in lst if i >= 0  ]\n",
    "        res.sort(key= lambda x : -x)        \n",
    "        return res\n",
    "    elif method == 2 :\n",
    "        return  sorted(list(map( lambda x : x*x ,filter( lambda x : x >= 0 , lst))))[::-1]\n",
    "        \n",
    "print(task_07_func([1,23,123,123,12,3,123,-123,12,-3,1,-23,-123,123,-123,-5]))\n",
    "print(task_07_func([0]))\n",
    "print(task_07_func([-1]))\n",
    "print(task_07_func([ -5 ,4 ,-3,2,-1,0,6]))"
   ]
  },
  {
   "cell_type": "markdown",
   "metadata": {},
   "source": [
    "__Задание 8 (1 балл):__ Напишите функцию, которая принимает на вход список кортежей одинаковой длины и индекс `index` элемента в кортеже и возвращает генератор, итерирование по которому позволит получит все кортежи входного списка, отсортированные по убыванию элементов этих кортежей с индексом `index`."
   ]
  },
  {
   "cell_type": "code",
   "execution_count": 42,
   "metadata": {},
   "outputs": [
    {
     "name": "stdout",
     "output_type": "stream",
     "text": [
      "[1, 1, 2, 3, 4, 5]\n",
      "['a', 'a', 'b', 'c', 'd', 'e']\n",
      "[100, 100, 100, 200, 200, 300]\n"
     ]
    }
   ],
   "source": [
    "def task_08_func(lst, index):\n",
    "    return (lst[i] for i in  sorted( range(len(lst)) , key = lambda x : lst[x][index] ) )\n",
    "\n",
    "print([i[0] for i in task_08_func([(1,2,3),(2,3,4),(5,2,2),(1,7,7),(4,2,2),(3,3,3)],0) ] )\n",
    "print([i[1] for i in task_08_func([(1,\"a\",3),(2,\"c\",4),(5,\"b\",2),(1,\"d\",7),(4,\"a\",2),(3,\"e\",3)],1) ] )\n",
    "print([i[2] for i in task_08_func([(1,2,100),(2,3,300),(5,2,200),(1,7,100),(4,2,100),(3,3,200)],2) ] )\n"
   ]
  },
  {
   "cell_type": "markdown",
   "metadata": {},
   "source": [
    "__Задание 9 (1 балл):__ Напишите функцию, которая получает на вход натуральное число `n` и выводит первые `n` строк треугольника Паскаля."
   ]
  },
  {
   "cell_type": "code",
   "execution_count": 48,
   "metadata": {
    "collapsed": true
   },
   "outputs": [
    {
     "name": "stdout",
     "output_type": "stream",
     "text": [
      "[1]\n",
      "[1, 2, 1]\n",
      "\n",
      "\n",
      "[1]\n",
      "[1, 2, 1]\n",
      "[1, 3, 3, 1]\n",
      "[1, 4, 6, 4, 1]\n",
      "[1, 5, 10, 10, 5, 1]\n"
     ]
    }
   ],
   "source": [
    "def task_09_func(n):\n",
    "    lst = []\n",
    "    print([1])\n",
    "    for i in range(n):\n",
    "        lst = [1] + lst + [1]\n",
    "        lst = [lst[i] + lst[i+1] for i in range(0,len(lst)-1) ]\n",
    "        print([1] + lst + [1])\n",
    "\n",
    "task_09_func(1)\n",
    "print('\\n')\n",
    "task_09_func(4)"
   ]
  },
  {
   "cell_type": "markdown",
   "metadata": {},
   "source": [
    "__Задание 10 (1 балл):__ Напишите функцию, которая принимает на вход абсолютный путь к директории и две строки с расширениями файлов. В результате её выполнения у всех файлов в указанной директории, имеющих первое расширение, расширение должно измениться на второе. В конце работы функция должна возвращать кортеж из двух элементов:\n",
    "\n",
    "1. сколько всего в директории файлов (именно файлов, не директорий);\n",
    "2. у скольки из них расширение было изменено.\n",
    "\n",
    "Допускается только один проход по каждому файлу из указанной директории."
   ]
  },
  {
   "cell_type": "code",
   "execution_count": 49,
   "metadata": {
    "collapsed": true
   },
   "outputs": [
    {
     "name": "stdout",
     "output_type": "stream",
     "text": [
      "(5, 0)\n"
     ]
    }
   ],
   "source": [
    "import os \n",
    "# Что подразумевалось под одним проходом ?\n",
    "def task_10_func(dir_path, prev_extension, next_extension):\n",
    "    count , change_count = 0 , 0\n",
    "    filenames = os.listdir(dir_path)\n",
    "    for filename in filenames:\n",
    "        if os.path.isfile(filename) :\n",
    "            count += 1\n",
    "            name , ext = os.path.splitext(filename)\n",
    "            if ext == prev_extension :\n",
    "                os.rename(filename, name + next_extension)\n",
    "                change_count +=1\n",
    "    return (count , change_count )\n",
    "\n",
    "\n",
    "prev_extension = \".ext1\"\n",
    "next_extension = \".ext2\"\n",
    "dir_path = \"./\"\n",
    "print(task_10_func(dir_path, prev_extension, next_extension))"
   ]
  },
  {
   "cell_type": "markdown",
   "metadata": {},
   "source": [
    "__Задание 11 (1 балл):__ Описать функцию, которая принимает на вход два списка и возвращает список уникальных элементов, которые есть в первом входном списке и отсутствуют во втором. Запрещается использовать циклы и списковые включения/генераторы списков."
   ]
  },
  {
   "cell_type": "code",
   "execution_count": 50,
   "metadata": {
    "collapsed": true
   },
   "outputs": [
    {
     "name": "stdout",
     "output_type": "stream",
     "text": [
      "[1, 2, 3]\n",
      "[2]\n",
      "[]\n"
     ]
    }
   ],
   "source": [
    "def task_11_func(first_list, second_list) :\n",
    "    return list(set(first_list).difference(set(second_list)))\n",
    "\n",
    "print(task_11_func( [1,2,3,4,5,6,7,8],[4,5,6,7,8,9,10]))\n",
    "print(task_11_func( [2],[1]))\n",
    "print(task_11_func( [1],[1]))\n"
   ]
  },
  {
   "cell_type": "markdown",
   "metadata": {},
   "source": [
    "__Задание 12 (1 балл):__ Напишите функцию, которая получает на вход путь к файлу, в котором в каждой строке записано одно вещественное число, а также путь к выходному файлу. Функция должна прочитать содержимое файла, игнорировать строки с нечётными индексами, а строки с чётными индексами должна увеличить на минимальное из чисел, содержащихся в этом файле. Полученные числа нужно записать в выходной файл с точностью 5 знаков после запятой.\n",
    "\n",
    "Требуется сделать не более двух проходов по входному файлу, расход памяти на протяжении работы должен быть O(1) (то есть никак не зависеть от числа строк во входном файле)."
   ]
  },
  {
   "cell_type": "code",
   "execution_count": 51,
   "metadata": {
    "collapsed": true
   },
   "outputs": [],
   "source": [
    "def task_12_func(input_path, output_path):\n",
    "    file = open(input_path)\n",
    "    max = float(file.readline())\n",
    "    for i in file :\n",
    "        if  float(i) > max :\n",
    "            max = float(i) \n",
    "    key = 0\n",
    "    file = open(input_path , \"r\")\n",
    "    output_file = open(output_path,\"w\")\n",
    "    for i in file :\n",
    "        if key % 2 == 0 : \n",
    "            output_file.write(str(round(float(i)*max,5))+\"\\n\")\n",
    "        key  = ( key + 1 ) % 2\n",
    "\n",
    "task_12_func(\"input.txt\" , \"output.txt\")\n"
   ]
  },
  {
   "cell_type": "markdown",
   "metadata": {},
   "source": [
    "__Задание 13 (1 балл):__ Написать функцию, которая принимает на вход число `n`, которое может быть либо натуральным, либо -1, и возвращает генератор чисел Фиббоначи. Если входной параметр равен натуральному числу, то генератор должен выдавать последовательно числа Фиббоначи до `n`-го. Если `n` равно -1, то генератор должен быть бесконечным."
   ]
  },
  {
   "cell_type": "code",
   "execution_count": 52,
   "metadata": {},
   "outputs": [
    {
     "name": "stdout",
     "output_type": "stream",
     "text": [
      "[0, 1, 1, 2, 3, 5, 8, 13, 21, 34, 55, 89]\n",
      "[0, 1, 1, 2, 3, 5, 8, 13, 21, 34, 55, 89, 144, 233, 377]\n"
     ]
    }
   ],
   "source": [
    "def gen_F(n):\n",
    "    first = 0\n",
    "    second = 1\n",
    "    iter = 0\n",
    "    while(1) :\n",
    "        if iter == n :\n",
    "            break\n",
    "        yield first\n",
    "        first ,second = second , first+ second \n",
    "        iter +=1\n",
    "def task_13_func(n):\n",
    "    return gen_F(n)\n",
    "    \n",
    "gen1 , gen2 = task_13_func(12) , task_13_func(-1)\n",
    "print(list(gen1))\n",
    "print([next(gen2) for i in range(15)])"
   ]
  },
  {
   "cell_type": "markdown",
   "metadata": {},
   "source": [
    "__Задание 14 (1 балл):__ Написать функцию, которая принимает на вход произвольный объект, проверяет его тип, и для целого числа возвращает список всех магических методов объекта, начинающихся с `__a`, для строк - с `__s`. Для всех прочих типов должен возвращаться список немагических методов. В задании запрещается использовать циклы и списковые включения/генераторы списков."
   ]
  },
  {
   "cell_type": "code",
   "execution_count": 58,
   "metadata": {
    "collapsed": true
   },
   "outputs": [
    {
     "name": "stdout",
     "output_type": "stream",
     "text": [
      "['__abs__', '__add__', '__and__']\n",
      "['__setattr__', '__sizeof__', '__str__', '__subclasshook__']\n",
      "['append', 'clear', 'copy', 'count', 'extend', 'index', 'insert', 'pop', 'remove', 'reverse', 'sort']\n"
     ]
    }
   ],
   "source": [
    "import re\n",
    "def task_14_func(n):\n",
    "    pattern_string = re.compile('__s([a-zA-Z]*)')\n",
    "    pattern_int = re.compile('__a([a-zA-Z]*)')\n",
    "    pattern_magic = re.compile(\"__([a-zA-Z]*)\")\n",
    "    str = \" \".join(dir(n))\n",
    "    if type(n) == type(int(0)) :\n",
    "        return list(filter( lambda i : pattern_int.match(i) is not None ,dir(n) ))\n",
    "    elif type(n) == type(\"\") :\n",
    "        return list(filter( lambda i : pattern_string.match(i) is not None ,dir(n) ))\n",
    "    else : \n",
    "        return list(filter( lambda i : pattern_magic.match(i) is None ,dir(n) ))\n",
    "\n",
    "print(task_14_func(123))\n",
    "print(task_14_func(\"adssad\"))\n",
    "print(task_14_func([1,3,3]))\n"
   ]
  },
  {
   "cell_type": "markdown",
   "metadata": {},
   "source": [
    "__Задание 15 (1.5 балла):__ Написать функцию, которая во входной строке заменяет вхождения всех английских заглавных букв на их номер в таблице ASCII, затем производит сплит по минимальной из цифр строки. Предложите как минимум два различных решения, одно из которых не должно использовать циклы. При использовании циклов допускается не более двух проходов по строке."
   ]
  },
  {
   "cell_type": "code",
   "execution_count": 59,
   "metadata": {},
   "outputs": [
    {
     "name": "stdout",
     "output_type": "stream",
     "text": [
      "['abfhs5dbf7', '583687', 'fs27', 'jsdf33n2a2sd2f']\n",
      "['', '22', '2656565aaa6565652', '', '', '6565a652', '', '', '']\n",
      "['']\n",
      "['6', '6', '6', '6', '6', '']\n"
     ]
    }
   ],
   "source": [
    "method = 1\n",
    "def task_15_func(n):\n",
    "    if method == 1 :\n",
    "        new = \"\"\n",
    "        min_int = 9\n",
    "        for i in n :\n",
    "            if  i.isnumeric() and min_int > int(i)  :\n",
    "                min_int = int(i)\n",
    "            if i.isupper() :\n",
    "                new += str(ord(i))\n",
    "                for k in list(str(ord(i))) :\n",
    "                    if min_int > int(k) :\n",
    "                        min_int = int(k)\n",
    "            else :\n",
    "                new += i\n",
    "        return new.split(str(min_int)) \n",
    "    else :\n",
    "        if len(n) == 0 :\n",
    "            return []\n",
    "        nums = \"\".join(list(map( lambda x : str(ord(x)) if x.isupper() and x.isascii() else x ,n)))    \n",
    "        minimum = min(filter( lambda x: x.isdigit()  , nums))\n",
    "        return \"\".join(nums).split(minimum) \n",
    "print(task_15_func(\"abfhs5dbfF5SDFfs2Fjsdf33n2a2sd2f\"))\n",
    "print(task_15_func(\"12212AAAaaaAAA2111AAaA2111\"))\n",
    "print(task_15_func(\"\"))\n",
    "print(task_15_func(\"AAAAA\"))"
   ]
  },
  {
   "cell_type": "markdown",
   "metadata": {},
   "source": [
    "__Задание 16 (1.5 балла):__ Написать функцию, которая принимает на вход строку и извлекает из неё мобильные телефонные номера с помощью регулярных выражений. Функция должна поддерживать общепринятые варианты написания номера, как со всевозможными разделителями, так и без них (обеспечьте поддержку не менее 10 различных случаев). Возвращаемым значением функции является список всех найденных в строке номеров, если их не было, нужно вернуть пустой список."
   ]
  },
  {
   "cell_type": "code",
   "execution_count": 61,
   "metadata": {},
   "outputs": [
    {
     "name": "stdout",
     "output_type": "stream",
     "text": [
      "['+6 (666) 666-66-66', '(666) 666-66-66']\n",
      "['666 666-66-66', '+6 666 666-66-66']\n",
      "['(666) 6666666', '+6 (666) 6666666']\n",
      "['666 6666666', '+6 666 6666666']\n",
      "['(666) 666-66-66']\n",
      "['666 666-66-66']\n",
      "['(666) 6666666']\n",
      "['666 6666666']\n",
      "['+666 666 666-66-66', '666 666-66-66']\n",
      "['6666666666', '66666666666']\n"
     ]
    }
   ],
   "source": [
    "\n",
    "import re\n",
    "\n",
    "def task_16_func(n):\n",
    "    patterns = [\n",
    "        r'\\d{11}',\n",
    "        r'\\d{3}[\\s.-]?\\d{7}',\n",
    "        r'\\(?\\d{3}\\)?[\\s.-]?\\d{7}',\n",
    "        r'\\+?\\d{1,3}\\s?\\d{3}[\\s.-]?\\d{7}',\n",
    "        r'\\+?\\d{1,3}\\s?\\(?\\d{3}\\)?[\\s.-]?\\d{7}',\n",
    "        r'\\d{3}[\\s.-]?\\d{3}[\\s.-]?\\d{2}[\\s.-]?\\d{2}',\n",
    "        r'\\(?\\d{3}\\)?[\\s.-]?\\d{3}[\\s.-]?\\d{2}[\\s.-]?\\d{2}',\n",
    "        r'\\+?\\d{1,3}\\s?\\d{3}[\\s.-]?\\d{3}[\\s.-]?\\d{2}[\\s.-]?\\d{2}',\n",
    "        r'\\+\\d{1,3}[\\s.-]?\\d{3}[\\s.-]?\\d{3}[\\s.-]?\\d{2}[\\s.-]?\\d{2}',\n",
    "        r'\\+?\\d{1,3}\\s?\\(?\\d{3}\\)?[\\s.-]?\\d{3}[\\s.-]?\\d{2}[\\s.-]?\\d{2}' \n",
    "    ]\n",
    "    \n",
    "    result = set()\n",
    "    for pattern in patterns:\n",
    "        for i in re.findall(pattern, n):\n",
    "            result.add(i)\n",
    "    \n",
    "    return list(result)\n",
    "# (Выведен список всех найденных номеров по шаблону , если же нужно было выводить с повторениями то result = [] , result.append())\n",
    "# некоторые шаблоны перекрываются (то есть вложены друг в друга ())\n",
    "print(task_16_func(\"phone: +6 (666) 666-66-66 and +6 (666) 666-66-66  \"))\n",
    "print(task_16_func(\"+6 666 666-66-66 and +6 666 666-66-66\"))\n",
    "print(task_16_func(\"+6 (666) 6666666 and +6 (666) 6666666\"))\n",
    "print(task_16_func(\"+6 666 6666666 and +6 666 6666666\"))\n",
    "print(task_16_func(\"(666) 666-66-66and (666) 666-66-66\"))\n",
    "print(task_16_func(\"666 666-66-66and666 666-66-66\"))\n",
    "print(task_16_func(\"(666) 6666666 and (666) 6666666\"))\n",
    "print(task_16_func(\"666 6666666 and 666 6666666\"))\n",
    "print(task_16_func(\"+666 666 666-66-66 and +666 666 666-66-66\"))\n",
    "print(task_16_func(\"66666666666 and 66666666666\"))"
   ]
  },
  {
   "cell_type": "markdown",
   "metadata": {},
   "source": [
    "__Задание 17 (5 баллов):__ Опишем бинарное дерево, представленное в виде вложенных кортежей, в каждом узле дерева хранится вещественное число и ссылка на левое и правое поддерево.\n",
    "\n",
    "Пример: для сбалансированного дерева\n",
    "\n",
    "```\n",
    "        v_0\n",
    "       /   \\\n",
    "   v_11     v_12\n",
    "  /  \\       /  \\\n",
    "v_21 v_22  v_23 v_24\n",
    "```\n",
    "\n",
    "представление в виде кортежей будет выглядеть так:\n",
    "\n",
    "```\n",
    "(v_0,\n",
    "    (v_11,\n",
    "        (v_21, None, None),\n",
    "        (v_22, None, None)\n",
    "    ),\n",
    "    (v_12,\n",
    "        (v_23, None, None),\n",
    "        (v_24, None, None)\n",
    "    )\n",
    ")\n",
    "```\n",
    "\n",
    "Необходимо написать функцию, которая принимает на вход бинарное дерево (не обязательно сбалансированное), закодированное описанным способом в виде кортежа, производит его обход в глубину и для каждой листовой вершины вычисляет сумму всех значений от корня до неё включительно. Функция ничего не возвращает, вместо этого она выводит получаемые суммы в порядке следования листовых вершин (слева направо).\n",
    "\n",
    "Реализуйте два решения: на основе рекурсии и на основе циклов."
   ]
  },
  {
   "cell_type": "code",
   "execution_count": 62,
   "metadata": {},
   "outputs": [
    {
     "name": "stdout",
     "output_type": "stream",
     "text": [
      "[1, 3, 7, 9, 4, 12, 14]\n",
      "[1, 3, 7, 25, 9, 4, 12, 30, 14]\n"
     ]
    }
   ],
   "source": [
    "#Recursive\n",
    "def task_17_func(n):\n",
    "    left,right = None , None \n",
    "    if n[1] is not None :\n",
    "        new = n[1][0] + n[0]\n",
    "        left = task_17_func(  (new,n[1][1],n[1][2])  )\n",
    "    if n[2] is not None :\n",
    "        new = n[2][0] + n[0]\n",
    "        right = task_17_func((new,n[2][1],n[2][2]) )\n",
    "    return [n[0]] + (left if left is not None else []) + (right if right is not None else [])\n",
    "#Test recursive\n",
    "print(task_17_func( \n",
    "    (\n",
    "        1,\n",
    "        (\n",
    "            2,\n",
    "            (4,None,None), \n",
    "            (6,None,None)\n",
    "        ), \n",
    "        (\n",
    "            3,\n",
    "            (8,None,None), \n",
    "            (10,None,None)\n",
    "        )\n",
    "    )\n",
    "))\n",
    "print(task_17_func( \n",
    "    (\n",
    "        1,\n",
    "        (\n",
    "            2,\n",
    "            (\n",
    "                4,\n",
    "                (18,None,None),\n",
    "                None\n",
    "            ), \n",
    "            (6,None,None)\n",
    "        ), \n",
    "        (\n",
    "            3,\n",
    "            (\n",
    "                8,\n",
    "                None,\n",
    "                (18,None,None)\n",
    "            ), \n",
    "            (10,None,None)\n",
    "        )\n",
    "    )\n",
    "))"
   ]
  },
  {
   "cell_type": "code",
   "execution_count": 80,
   "metadata": {},
   "outputs": [
    {
     "name": "stdout",
     "output_type": "stream",
     "text": [
      "[1]\n"
     ]
    }
   ],
   "source": [
    "def task_17_func_itter(n):\n",
    "    result = []\n",
    "    stack = [[n,n[0],False]]\n",
    "    while stack:\n",
    "        stack[-1][2] = True\n",
    "        if stack[-1][0][1] is not None and not stack[-1][0][1][2]:\n",
    "            stack.append((stack[-1][0][1],stack[-1][0] + stack[-1][0][1][0] , False))\n",
    "        else:\n",
    "            node = stack.pop()\n",
    "            result.append(node[1])\n",
    "            if not stack :\n",
    "                break\n",
    "            if stack[-1][0][2] is not None:\n",
    "                stack.append((stack[-1][2],stack[-1][0] + stack[-1][2][0] , False))\n",
    "    return result\n",
    "print(task_17_func_itter( \n",
    "    (\n",
    "        1,\n",
    "        (\n",
    "            2,\n",
    "            (4,None,None), \n",
    "            (6,None,None)\n",
    "        ), \n",
    "        (\n",
    "            3,\n",
    "            (8,None,None), \n",
    "            (10,None,None)\n",
    "        )\n",
    "    )\n",
    "))\n",
    "# print(task_17_func_itter( \n",
    "#     (\n",
    "#         1,\n",
    "#         (\n",
    "#             2,\n",
    "#             (\n",
    "#                 4,\n",
    "#                 (18,None,None),\n",
    "#                 None\n",
    "#             ), \n",
    "#             (6,None,None)\n",
    "#         ), \n",
    "#         (\n",
    "#             3,\n",
    "#             (\n",
    "#                 8,\n",
    "#                 None,\n",
    "#                 (18,None,None)\n",
    "#             ), \n",
    "#             (10,None,None)\n",
    "#         )\n",
    "#     )\n",
    "# ))"
   ]
  },
  {
   "cell_type": "code",
   "execution_count": null,
   "metadata": {},
   "outputs": [],
   "source": []
  }
 ],
 "metadata": {
  "kernelspec": {
   "display_name": "Python 3.8.0 64-bit",
   "language": "python",
   "name": "python3"
  },
  "language_info": {
   "codemirror_mode": {
    "name": "ipython",
    "version": 3
   },
   "file_extension": ".py",
   "mimetype": "text/x-python",
   "name": "python",
   "nbconvert_exporter": "python",
   "pygments_lexer": "ipython3",
   "version": "3.8.0"
  },
  "vscode": {
   "interpreter": {
    "hash": "6a926afa313b26ae1264fdcf81c726a97e69f6ba2ba780f6aa901948710f8d6e"
   }
  }
 },
 "nbformat": 4,
 "nbformat_minor": 2
}
