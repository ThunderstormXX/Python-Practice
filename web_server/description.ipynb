{
 "cells": [
  {
   "attachments": {},
   "cell_type": "markdown",
   "metadata": {},
   "source": [
    "## 4 дз питон\n"
   ]
  },
  {
   "attachments": {},
   "cell_type": "markdown",
   "metadata": {},
   "source": [
    "#### Парсим JSON файл, заводим train_log , парсим входые данные и название встроенной модели, которую будем обучать, оубчаем модель, сохраняем ее в папке model_dir"
   ]
  },
  {
   "cell_type": "code",
   "execution_count": null,
   "metadata": {},
   "outputs": [],
   "source": [
    "@app.route(\"/fit\", methods=['POST'])\n",
    "def fit():\n",
    "    input_json = request.get_json()\n",
    "    config = input_json['config']\n",
    "    model_name = config[\"model_name\"]\n",
    "    model_type = config['model_type']\n",
    "\n",
    "    X = input_json['X']\n",
    "    y = input_json['y']\n",
    "    \n",
    "    train_log = \"\"\n",
    "    #train\n",
    "    if model_type == \"CatboostRegressor\" :\n",
    "        train_log += \"CatboostRegressor fitting :\\n\"\n",
    "        X = np.array(X)\n",
    "        y = np.array(y)\n",
    "        train_data = Pool(data=X, label=y)\n",
    "        model = CatBoostRegressor(iterations=100, learning_rate=0.1, depth=6)\n",
    "        model.fit(train_data)\n",
    "        if not os.path.exists(model_dir):\n",
    "            os.makedirs(model_dir)\n",
    "        model.save_model(os.path.join(model_dir, model_name))\n",
    "        train_log += \"Success\"\n",
    "    elif model_type == \"sklearn.linear_model\":\n",
    "        train_log += \"\\nSklearn linear model fitting :\\n\"\n",
    "        X = np.array(X)\n",
    "        y = np.array(y)\n",
    "        model = LinearRegression()\n",
    "        model.fit(X, y)\n",
    "        if not os.path.exists(model_dir):\n",
    "            os.makedirs(model_dir)\n",
    "        joblib.dump(model, model_dir + '/' + model_name )\n",
    "        train_log += \"Success\"\n",
    "    else :\n",
    "        return {'message': 'this type model dont exists' , \"train_log\" : train_log}\n",
    "\n",
    "    return {\"message\": f\"Model '{model_name}' trained and saved\" ,\n",
    "            \"train_log\" : train_log\n",
    "            }"
   ]
  },
  {
   "attachments": {},
   "cell_type": "markdown",
   "metadata": {},
   "source": [
    "#### Парсим тестовые данные, название модели, ее тип, находим ее в папке, запускаем на тестовой выборке, выводим рещультат предсказания"
   ]
  },
  {
   "cell_type": "code",
   "execution_count": null,
   "metadata": {},
   "outputs": [],
   "source": [
    "@app.route('/predict', methods=['POST'])\n",
    "def predict():\n",
    "    input_json = request.get_json()\n",
    "    X_test = input_json['X_test']\n",
    "    config = input_json['config']\n",
    "    model_type = config['model_type']\n",
    "    model_name = config[\"model_name\"]\n",
    "    if model_type == \"CatboostRegressor\" :\n",
    "        loaded_model = CatBoostRegressor()\n",
    "        loaded_model.load_model(model_dir + '/' + model_name )\n",
    "        result = loaded_model.predict(X_test)\n",
    "    elif model_type == \"sklearn.linear_model\":\n",
    "        loaded_model = LinearRegression()\n",
    "        loaded_model.load_model(model_dir + '/' + model_name )\n",
    "        result = loaded_model.predict(X_test)\n",
    "    else :\n",
    "        return {'message': 'this type model dont exists' }\n",
    "    return {'predict' : list(result)}"
   ]
  },
  {
   "attachments": {},
   "cell_type": "markdown",
   "metadata": {},
   "source": [
    "#### Парсим название модели , и ее тип, парсим саму модель в декодированном виде, обратно ее кодируем и сохраняем в папке"
   ]
  },
  {
   "cell_type": "code",
   "execution_count": null,
   "metadata": {},
   "outputs": [],
   "source": [
    "@app.post(\"/load\")\n",
    "def load():\n",
    "    input_json = request.get_json()\n",
    "    config = input_json['config']\n",
    "    model_type = config['model_type']\n",
    "    model_name = config[\"model_name\"]\n",
    "    decoded_model = input_json['decoded_model']\n",
    "    model_path = os.path.join(model_dir, f\"{model_name}\")\n",
    "    if os.path.exists(model_path):\n",
    "        return {\"error\": f\"Model '{model_name}' already exists\"}\n",
    "    if model_type == \"CatboostRegressor\" :\n",
    "        model = pickle.loads(decoded_model.encode('latin1'))\n",
    "        model.save_model(os.path.join(model_dir, model_name))\n",
    "    elif model_type == \"sklearn.linear_model\":\n",
    "        model = pickle.loads(decoded_model.encode(latin1))\n",
    "        joblib.dump(model, model_dir + '/' + model_name )\n",
    "    else :\n",
    "        return {'message': 'this type model dont exists' }\n",
    "    return {\"message\": f\"Model '{model_name}' loaded for inference\"}"
   ]
  },
  {
   "attachments": {},
   "cell_type": "markdown",
   "metadata": {},
   "source": [
    "#### парсим имена модели и ее тип, дальше выгружаем ее из папки, декодируем, отправляем, позже клиент ее кодирует и запускает"
   ]
  },
  {
   "cell_type": "code",
   "execution_count": null,
   "metadata": {},
   "outputs": [],
   "source": [
    "@app.post(\"/unload\")\n",
    "def unload():\n",
    "    input_json = request.get_json()\n",
    "    config = input_json['config']\n",
    "    model_type = config['model_type']\n",
    "    model_name = config[\"model_name\"]\n",
    "    model_path = os.path.join(model_dir, f\"{model_name}\")\n",
    "    \n",
    "    if model_type == \"CatboostRegressor\" :\n",
    "        model = CatBoostRegressor()\n",
    "        model.load_model(model_path)\n",
    "        decoded_model = pickle.dumps(model).decode(\"latin1\")\n",
    "        result = decoded_model   \n",
    "    elif model_type == \"sklearn.linear_model\":\n",
    "        model = LinearRegression()\n",
    "        model.load_model(model_path)\n",
    "        decoded_model = pickle.dumps(model).decode(\"latin1\")\n",
    "        result = decoded_model\n",
    "    else :\n",
    "        return {'message': 'this type model dont exists' }\n",
    "    return {\"decoded_model\": result , \"message\": f\"Model '{model_name}' unloaded\"}"
   ]
  },
  {
   "attachments": {},
   "cell_type": "markdown",
   "metadata": {},
   "source": [
    "#### По названию ищем модель в папке и удаляем / просто все в папке с моделями удалем"
   ]
  },
  {
   "cell_type": "code",
   "execution_count": null,
   "metadata": {},
   "outputs": [],
   "source": [
    "@app.post(\"/remove\")\n",
    "def remove():\n",
    "    input_json = request.get_json()\n",
    "    config = input_json['config']\n",
    "    model_name = config[\"model_name\"]\n",
    "    model_path = os.path.join(model_dir, f\"{model_name}\")\n",
    "    os.remove(model_path)\n",
    "    return {\"message\": f\"Model '{model_name}' removed\"}\n",
    "\n",
    "@app.post(\"/remove_all\")\n",
    "def remove_all():\n",
    "    shutil.rmtree(model_dir)\n",
    "    os.makedirs(model_dir)\n",
    "    return {\"message\": \"All models removed\"}"
   ]
  }
 ],
 "metadata": {
  "language_info": {
   "name": "python"
  },
  "orig_nbformat": 4
 },
 "nbformat": 4,
 "nbformat_minor": 2
}
