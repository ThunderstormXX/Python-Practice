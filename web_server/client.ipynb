{
 "cells": [
  {
   "attachments": {},
   "cell_type": "markdown",
   "metadata": {},
   "source": [
    "# CLIENT\n",
    "\n",
    "многое не успел но это честная работа )))\n",
    "\n",
    "Модельки взял ультрапростые \n",
    "\n",
    "сначала запускаем сервер : python3 server.py"
   ]
  },
  {
   "attachments": {},
   "cell_type": "markdown",
   "metadata": {},
   "source": [
    "## Hello World"
   ]
  },
  {
   "cell_type": "code",
   "execution_count": 19,
   "metadata": {},
   "outputs": [
    {
     "name": "stdout",
     "output_type": "stream",
     "text": [
      "Hello, World!\n"
     ]
    }
   ],
   "source": [
    "import requests\n",
    "response = requests.get(\"http://127.0.0.1:5000\")\n",
    "print(response.text)\n"
   ]
  },
  {
   "attachments": {},
   "cell_type": "markdown",
   "metadata": {},
   "source": [
    "## Обучаем две разные модели и сохраняем их на сервере :"
   ]
  },
  {
   "cell_type": "code",
   "execution_count": 20,
   "metadata": {},
   "outputs": [
    {
     "name": "stdout",
     "output_type": "stream",
     "text": [
      "CatboostRegressor fitting :\n",
      "Success\n",
      "Model 'catboost_regressor228' trained and saved\n",
      "\n",
      "Sklearn linear model fitting :\n",
      "Success\n",
      "Model 'sklearn_regressor222' trained and saved\n"
     ]
    }
   ],
   "source": [
    "#Обработку некорректных данных сделать не успеваю (())\n",
    "\n",
    "import numpy as np\n",
    "from catboost import CatBoostRegressor, Pool\n",
    "from sklearn.linear_model import LinearRegression\n",
    "\n",
    "X = np.random.rand(100, 3).tolist()  # Признаки\n",
    "y = list(np.random.rand(100))  # Целевая переменная\n",
    "data = {\n",
    "    \"X\": X,\n",
    "    \"y\": y,\n",
    "    \"config\": {\n",
    "        \"model_name\": \"catboost_regressor228\",\n",
    "        \"model_type\": \"CatboostRegressor\"\n",
    "    }\n",
    "}\n",
    "data2 = {\n",
    "    \"X\": X,\n",
    "    \"y\": y,\n",
    "    \"config\": {\n",
    "        \"model_name\": \"sklearn_regressor222\",\n",
    "        \"model_type\": \"sklearn.linear_model\"\n",
    "    }\n",
    "}\n",
    "\n",
    "response = requests.post(\"http://127.0.0.1:5000/fit\" , json = data)\n",
    "result = response.json()\n",
    "print(result['train_log'])\n",
    "print(result['message'])\n",
    "\n",
    "response = requests.post(\"http://127.0.0.1:5000/fit\" , json = data2)\n",
    "result = response.json()\n",
    "print(result['train_log'])\n",
    "print(result['message'])"
   ]
  },
  {
   "attachments": {},
   "cell_type": "markdown",
   "metadata": {},
   "source": [
    "## Обучаем модель у себя и загружаем ее на сервер, потом запускаем ее на сервере"
   ]
  },
  {
   "cell_type": "code",
   "execution_count": 21,
   "metadata": {},
   "outputs": [
    {
     "name": "stdout",
     "output_type": "stream",
     "text": [
      "0:\tlearn: 0.2938080\ttotal: 1.06ms\tremaining: 105ms\n",
      "1:\tlearn: 0.2910002\ttotal: 2.09ms\tremaining: 102ms\n",
      "2:\tlearn: 0.2884846\ttotal: 3.16ms\tremaining: 102ms\n",
      "3:\tlearn: 0.2844897\ttotal: 4.11ms\tremaining: 98.7ms\n",
      "4:\tlearn: 0.2817086\ttotal: 5.43ms\tremaining: 103ms\n",
      "5:\tlearn: 0.2772053\ttotal: 6.22ms\tremaining: 97.4ms\n",
      "6:\tlearn: 0.2744746\ttotal: 8.32ms\tremaining: 111ms\n",
      "7:\tlearn: 0.2710062\ttotal: 9.53ms\tremaining: 110ms\n",
      "8:\tlearn: 0.2678063\ttotal: 10.9ms\tremaining: 110ms\n",
      "9:\tlearn: 0.2642616\ttotal: 12.1ms\tremaining: 109ms\n",
      "10:\tlearn: 0.2618032\ttotal: 12.9ms\tremaining: 104ms\n",
      "11:\tlearn: 0.2591770\ttotal: 14.7ms\tremaining: 107ms\n",
      "12:\tlearn: 0.2566011\ttotal: 16.1ms\tremaining: 108ms\n",
      "13:\tlearn: 0.2546390\ttotal: 16.9ms\tremaining: 104ms\n",
      "14:\tlearn: 0.2526817\ttotal: 17.5ms\tremaining: 99.3ms\n",
      "15:\tlearn: 0.2513375\ttotal: 18.3ms\tremaining: 95.8ms\n",
      "16:\tlearn: 0.2498975\ttotal: 19.2ms\tremaining: 93.6ms\n",
      "17:\tlearn: 0.2484229\ttotal: 19.6ms\tremaining: 89.3ms\n",
      "18:\tlearn: 0.2469131\ttotal: 20.3ms\tremaining: 86.6ms\n",
      "19:\tlearn: 0.2448612\ttotal: 20.9ms\tremaining: 83.7ms\n",
      "20:\tlearn: 0.2429735\ttotal: 21.6ms\tremaining: 81.2ms\n",
      "21:\tlearn: 0.2415486\ttotal: 22.2ms\tremaining: 78.7ms\n",
      "22:\tlearn: 0.2398509\ttotal: 22.8ms\tremaining: 76.3ms\n",
      "23:\tlearn: 0.2377374\ttotal: 23.6ms\tremaining: 74.7ms\n",
      "24:\tlearn: 0.2353672\ttotal: 24.3ms\tremaining: 72.8ms\n",
      "25:\tlearn: 0.2324103\ttotal: 24.9ms\tremaining: 71ms\n",
      "26:\tlearn: 0.2307793\ttotal: 25.6ms\tremaining: 69.3ms\n",
      "27:\tlearn: 0.2286651\ttotal: 26.3ms\tremaining: 67.6ms\n",
      "28:\tlearn: 0.2277517\ttotal: 27ms\tremaining: 66ms\n",
      "29:\tlearn: 0.2264004\ttotal: 27.8ms\tremaining: 64.9ms\n",
      "30:\tlearn: 0.2252092\ttotal: 28.9ms\tremaining: 64.4ms\n",
      "31:\tlearn: 0.2240201\ttotal: 29.8ms\tremaining: 63.4ms\n",
      "32:\tlearn: 0.2223494\ttotal: 30.6ms\tremaining: 62.1ms\n",
      "33:\tlearn: 0.2213611\ttotal: 31.3ms\tremaining: 60.7ms\n",
      "34:\tlearn: 0.2197723\ttotal: 31.8ms\tremaining: 59.1ms\n",
      "35:\tlearn: 0.2183406\ttotal: 32.6ms\tremaining: 57.9ms\n",
      "36:\tlearn: 0.2171671\ttotal: 33.2ms\tremaining: 56.5ms\n",
      "37:\tlearn: 0.2161784\ttotal: 33.9ms\tremaining: 55.3ms\n",
      "38:\tlearn: 0.2151950\ttotal: 34.5ms\tremaining: 54ms\n",
      "39:\tlearn: 0.2140902\ttotal: 35.2ms\tremaining: 52.8ms\n",
      "40:\tlearn: 0.2119939\ttotal: 37ms\tremaining: 53.2ms\n",
      "41:\tlearn: 0.2108566\ttotal: 37.8ms\tremaining: 52.2ms\n",
      "42:\tlearn: 0.2097022\ttotal: 38.5ms\tremaining: 51ms\n",
      "43:\tlearn: 0.2078284\ttotal: 39.1ms\tremaining: 49.8ms\n",
      "44:\tlearn: 0.2058017\ttotal: 39.7ms\tremaining: 48.5ms\n",
      "45:\tlearn: 0.2037229\ttotal: 40.3ms\tremaining: 47.3ms\n",
      "46:\tlearn: 0.2026342\ttotal: 40.9ms\tremaining: 46.1ms\n",
      "47:\tlearn: 0.2016073\ttotal: 41.8ms\tremaining: 45.2ms\n",
      "48:\tlearn: 0.2007989\ttotal: 42.8ms\tremaining: 44.5ms\n",
      "49:\tlearn: 0.1991975\ttotal: 43.6ms\tremaining: 43.6ms\n",
      "50:\tlearn: 0.1982900\ttotal: 44.2ms\tremaining: 42.5ms\n",
      "51:\tlearn: 0.1968994\ttotal: 44.8ms\tremaining: 41.4ms\n",
      "52:\tlearn: 0.1956019\ttotal: 46.7ms\tremaining: 41.4ms\n",
      "53:\tlearn: 0.1942396\ttotal: 47.6ms\tremaining: 40.6ms\n",
      "54:\tlearn: 0.1934475\ttotal: 48.6ms\tremaining: 39.7ms\n",
      "55:\tlearn: 0.1926432\ttotal: 50.2ms\tremaining: 39.5ms\n",
      "56:\tlearn: 0.1914864\ttotal: 51.5ms\tremaining: 38.9ms\n",
      "57:\tlearn: 0.1895551\ttotal: 52.6ms\tremaining: 38.1ms\n",
      "58:\tlearn: 0.1881134\ttotal: 53.7ms\tremaining: 37.3ms\n",
      "59:\tlearn: 0.1872069\ttotal: 55ms\tremaining: 36.7ms\n",
      "60:\tlearn: 0.1856808\ttotal: 56ms\tremaining: 35.8ms\n",
      "61:\tlearn: 0.1844287\ttotal: 56.9ms\tremaining: 34.9ms\n",
      "62:\tlearn: 0.1826813\ttotal: 57.5ms\tremaining: 33.8ms\n",
      "63:\tlearn: 0.1811561\ttotal: 58.4ms\tremaining: 32.9ms\n",
      "64:\tlearn: 0.1799580\ttotal: 59.3ms\tremaining: 31.9ms\n",
      "65:\tlearn: 0.1785600\ttotal: 65.2ms\tremaining: 33.6ms\n",
      "66:\tlearn: 0.1763545\ttotal: 66ms\tremaining: 32.5ms\n",
      "67:\tlearn: 0.1750585\ttotal: 66.5ms\tremaining: 31.3ms\n",
      "68:\tlearn: 0.1736395\ttotal: 67.3ms\tremaining: 30.2ms\n",
      "69:\tlearn: 0.1724233\ttotal: 68.1ms\tremaining: 29.2ms\n",
      "70:\tlearn: 0.1713960\ttotal: 69ms\tremaining: 28.2ms\n",
      "71:\tlearn: 0.1700062\ttotal: 69.7ms\tremaining: 27.1ms\n",
      "72:\tlearn: 0.1687924\ttotal: 70.2ms\tremaining: 26ms\n",
      "73:\tlearn: 0.1673105\ttotal: 70.8ms\tremaining: 24.9ms\n",
      "74:\tlearn: 0.1667373\ttotal: 71.5ms\tremaining: 23.8ms\n",
      "75:\tlearn: 0.1652646\ttotal: 72.2ms\tremaining: 22.8ms\n",
      "76:\tlearn: 0.1640831\ttotal: 72.8ms\tremaining: 21.7ms\n",
      "77:\tlearn: 0.1634752\ttotal: 73.4ms\tremaining: 20.7ms\n",
      "78:\tlearn: 0.1616699\ttotal: 74.1ms\tremaining: 19.7ms\n",
      "79:\tlearn: 0.1607233\ttotal: 75.3ms\tremaining: 18.8ms\n",
      "80:\tlearn: 0.1581045\ttotal: 75.9ms\tremaining: 17.8ms\n",
      "81:\tlearn: 0.1565612\ttotal: 76.5ms\tremaining: 16.8ms\n",
      "82:\tlearn: 0.1551864\ttotal: 77.3ms\tremaining: 15.8ms\n",
      "83:\tlearn: 0.1537645\ttotal: 78.4ms\tremaining: 14.9ms\n",
      "84:\tlearn: 0.1534516\ttotal: 79.2ms\tremaining: 14ms\n",
      "85:\tlearn: 0.1524005\ttotal: 80.7ms\tremaining: 13.1ms\n",
      "86:\tlearn: 0.1505552\ttotal: 82.6ms\tremaining: 12.3ms\n",
      "87:\tlearn: 0.1492587\ttotal: 83.8ms\tremaining: 11.4ms\n",
      "88:\tlearn: 0.1474785\ttotal: 86ms\tremaining: 10.6ms\n",
      "89:\tlearn: 0.1464016\ttotal: 86.9ms\tremaining: 9.65ms\n",
      "90:\tlearn: 0.1453042\ttotal: 87.7ms\tremaining: 8.67ms\n",
      "91:\tlearn: 0.1439366\ttotal: 89.9ms\tremaining: 7.81ms\n",
      "92:\tlearn: 0.1424948\ttotal: 92.3ms\tremaining: 6.94ms\n",
      "93:\tlearn: 0.1408286\ttotal: 94.2ms\tremaining: 6.01ms\n",
      "94:\tlearn: 0.1399787\ttotal: 96.5ms\tremaining: 5.08ms\n",
      "95:\tlearn: 0.1388793\ttotal: 97.2ms\tremaining: 4.05ms\n",
      "96:\tlearn: 0.1379849\ttotal: 98ms\tremaining: 3.03ms\n",
      "97:\tlearn: 0.1374770\ttotal: 98.9ms\tremaining: 2.02ms\n",
      "98:\tlearn: 0.1357513\ttotal: 99.5ms\tremaining: 1ms\n",
      "99:\tlearn: 0.1350471\ttotal: 100ms\tremaining: 0us\n",
      "{'message': \"Model 'catboost_regressor_trained_in_my_computer' loaded for inference\"}\n",
      "{'predict': [0.46337568101188353, 0.5459942707311408, 0.401902895086478, 0.2686413789016999, 0.9309639535942011, 0.2285988060510023, 0.568265077581207, 0.7880280041067584, 0.5052703591800182, 0.40771667200237816]}\n"
     ]
    }
   ],
   "source": [
    "import joblib\n",
    "import pickle\n",
    "\n",
    "X = np.random.rand(100, 3).tolist()  # Признаки\n",
    "y = list(np.random.rand(100))  # Целевая переменная\n",
    "X = np.array(X)\n",
    "y = np.array(y)\n",
    "train_data = Pool(data=X, label=y)\n",
    "model = CatBoostRegressor(iterations=100, learning_rate=0.1, depth=6 )\n",
    "model.fit(train_data)\n",
    "\n",
    "X_test = np.random.rand(10, 3)\n",
    "# print(model.predict(test))\n",
    "\n",
    "data = {\n",
    "    \"decoded_model\" : pickle.dumps(model).decode(\"latin1\") ,\n",
    "    \"config\": {\n",
    "        \"model_name\": \"catboost_regressor_trained_in_my_computer\",\n",
    "        \"model_type\": \"CatboostRegressor\"\n",
    "    }\n",
    "}\n",
    "response = requests.post(\"http://127.0.0.1:5000/load\" , json = data)\n",
    "result = response.json()\n",
    "print(result)\n",
    "\n",
    "\n",
    "data = {\n",
    "    \"X_test\" : X_test.tolist() ,\n",
    "    \"config\": {\n",
    "        \"model_name\": \"catboost_regressor_trained_in_my_computer\",\n",
    "        \"model_type\": \"CatboostRegressor\"\n",
    "    }\n",
    "}\n",
    "response = requests.post(\"http://127.0.0.1:5000/predict\" , json = data)\n",
    "result = response.json()\n",
    "print(result)\n"
   ]
  },
  {
   "attachments": {},
   "cell_type": "markdown",
   "metadata": {},
   "source": [
    "## Выгружаем обученную модель с сервера, запускаем ее у себя"
   ]
  },
  {
   "cell_type": "code",
   "execution_count": 22,
   "metadata": {},
   "outputs": [
    {
     "name": "stdout",
     "output_type": "stream",
     "text": [
      "[0.52361312 0.51564361 0.52089447 0.55691841 0.57126445 0.30340279\n",
      " 0.56625367 0.52344467 0.59227509 0.6675322 ]\n"
     ]
    }
   ],
   "source": [
    "import pickle\n",
    "data = {\n",
    "    \"config\": {\n",
    "        \"model_name\": \"catboost_regressor_trained_in_my_computer\",\n",
    "        \"model_type\": \"CatboostRegressor\"\n",
    "    }\n",
    "}\n",
    "response = requests.post(\"http://127.0.0.1:5000/unload\" , json = data)\n",
    "result = response.json()\n",
    "model = pickle.loads(result['decoded_model'].encode('latin1'))\n",
    "X_test = np.random.rand(10, 3)\n",
    "print(model.predict(X_test))"
   ]
  },
  {
   "attachments": {},
   "cell_type": "markdown",
   "metadata": {},
   "source": [
    "## Удаляем одну конкретную и все модели с сервера"
   ]
  },
  {
   "cell_type": "code",
   "execution_count": 23,
   "metadata": {},
   "outputs": [
    {
     "name": "stdout",
     "output_type": "stream",
     "text": [
      "{'message': \"Model 'catboost_regressor_trained_in_my_computer' removed\"}\n"
     ]
    }
   ],
   "source": [
    "data = {\n",
    "    \"config\": {\n",
    "        \"model_name\": \"catboost_regressor_trained_in_my_computer\",\n",
    "        \"model_type\": \"CatboostRegressor\"\n",
    "    }\n",
    "}\n",
    "response = requests.post(\"http://127.0.0.1:5000/remove\" , json = data)\n",
    "result = response.json()\n",
    "print(result)"
   ]
  },
  {
   "cell_type": "code",
   "execution_count": 24,
   "metadata": {},
   "outputs": [
    {
     "name": "stdout",
     "output_type": "stream",
     "text": [
      "{'message': 'All models removed'}\n"
     ]
    }
   ],
   "source": [
    "# Не придумал что в конфиге передать если мы хотим все удалить\n",
    "data = {\n",
    "    \"config\": {}\n",
    "}\n",
    "response = requests.post(\"http://127.0.0.1:5000/remove_all\" , json = data)\n",
    "result = response.json()\n",
    "print(result)"
   ]
  }
 ],
 "metadata": {
  "kernelspec": {
   "display_name": "gt",
   "language": "python",
   "name": "python3"
  },
  "language_info": {
   "codemirror_mode": {
    "name": "ipython",
    "version": 3
   },
   "file_extension": ".py",
   "mimetype": "text/x-python",
   "name": "python",
   "nbconvert_exporter": "python",
   "pygments_lexer": "ipython3",
   "version": "3.9.12"
  },
  "orig_nbformat": 4
 },
 "nbformat": 4,
 "nbformat_minor": 2
}
